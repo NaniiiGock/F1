{
 "cells": [
  {
   "cell_type": "code",
   "execution_count": 1,
   "id": "73d4f049",
   "metadata": {
    "execution": {
     "iopub.execute_input": "2024-04-24T09:57:13.384728Z",
     "iopub.status.busy": "2024-04-24T09:57:13.384277Z",
     "iopub.status.idle": "2024-04-24T09:57:15.549690Z",
     "shell.execute_reply": "2024-04-24T09:57:15.548432Z"
    },
    "papermill": {
     "duration": 2.188545,
     "end_time": "2024-04-24T09:57:15.552569",
     "exception": false,
     "start_time": "2024-04-24T09:57:13.364024",
     "status": "completed"
    },
    "tags": []
   },
   "outputs": [],
   "source": [
    "import requests\n",
    "from bs4 import BeautifulSoup\n",
    "from io import StringIO\n",
    "from sklearn.ensemble import RandomForestClassifier\n",
    "from sklearn.svm import SVC\n",
    "from sklearn.neighbors import KNeighborsClassifier\n",
    "from sklearn.model_selection import cross_val_score\n",
    "import pandas as pd\n",
    "import numpy as np\n",
    "\n",
    "import matplotlib.pyplot as plt\n",
    "import plotly.express as px\n",
    "import plotly.graph_objects as go"
   ]
  },
  {
   "cell_type": "code",
   "execution_count": 3,
   "id": "5ba56102",
   "metadata": {
    "execution": {
     "iopub.execute_input": "2024-04-24T09:57:15.630836Z",
     "iopub.status.busy": "2024-04-24T09:57:15.630129Z",
     "iopub.status.idle": "2024-04-24T09:57:16.879815Z",
     "shell.execute_reply": "2024-04-24T09:57:16.878591Z"
    },
    "papermill": {
     "duration": 1.27262,
     "end_time": "2024-04-24T09:57:16.882671",
     "exception": false,
     "start_time": "2024-04-24T09:57:15.610051",
     "status": "completed"
    },
    "tags": []
   },
   "outputs": [],
   "source": [
    "df_circuits = pd.read_csv(\"/Users/lilianagocko/Desktop/stydy_3_2/ML/Semester_project/data/circuits.csv\")\n",
    "df_constructors = pd.read_csv(\"/Users/lilianagocko/Desktop/stydy_3_2/ML/Semester_project/data/constructors.csv\")\n",
    "df_constructor_results = pd.read_csv(\"/Users/lilianagocko/Desktop/stydy_3_2/ML/Semester_project/data/constructor_results.csv\")\n",
    "df_constructor_standings = pd.read_csv(\"/Users/lilianagocko/Desktop/stydy_3_2/ML/Semester_project/data/constructor_standings.csv\")\n",
    "df_driver_standings = pd.read_csv(\"/Users/lilianagocko/Desktop/stydy_3_2/ML/Semester_project/data/driver_standings.csv\")\n",
    "df_drivers = pd.read_csv(\"/Users/lilianagocko/Desktop/stydy_3_2/ML/Semester_project/data/drivers.csv\")\n",
    "df_lap_times = pd.read_csv(\"/Users/lilianagocko/Desktop/stydy_3_2/ML/Semester_project/data/lap_times.csv\")\n",
    "df_pit_stops = pd.read_csv(\"/Users/lilianagocko/Desktop/stydy_3_2/ML/Semester_project/data/pit_stops.csv\")\n",
    "df_qualifying = pd.read_csv(\"/Users/lilianagocko/Desktop/stydy_3_2/ML/Semester_project/data/qualifying.csv\")\n",
    "df_results = pd.read_csv(\"/Users/lilianagocko/Desktop/stydy_3_2/ML/Semester_project/data/results.csv\")\n",
    "df_seasons = pd.read_csv(\"/Users/lilianagocko/Desktop/stydy_3_2/ML/Semester_project/data/seasons.csv\")\n",
    "df_sprint_results = pd.read_csv(\"/Users/lilianagocko/Desktop/stydy_3_2/ML/Semester_project/data/sprint_results.csv\")\n",
    "df_status = pd.read_csv(\"/Users/lilianagocko/Desktop/stydy_3_2/ML/Semester_project/data/status.csv\")\n",
    "df_races = pd.read_csv(\"/Users/lilianagocko/Desktop/stydy_3_2/ML/Semester_project/data/races.csv\")\n",
    "df_weather = pd.read_csv(\"/Users/lilianagocko/Desktop/stydy_3_2/ML/Semester_project/data/weather.csv\")\n",
    "df_status = pd.read_csv(\"/Users/lilianagocko/Desktop/stydy_3_2/ML/Semester_project/data/status.csv\")"
   ]
  },
  {
   "cell_type": "code",
   "execution_count": 17,
   "id": "c77bf376",
   "metadata": {
    "execution": {
     "iopub.execute_input": "2024-04-24T09:58:53.551127Z",
     "iopub.status.busy": "2024-04-24T09:58:53.550262Z",
     "iopub.status.idle": "2024-04-24T09:58:53.768906Z",
     "shell.execute_reply": "2024-04-24T09:58:53.767737Z"
    },
    "papermill": {
     "duration": 0.243714,
     "end_time": "2024-04-24T09:58:53.771809",
     "exception": false,
     "start_time": "2024-04-24T09:58:53.528095",
     "status": "completed"
    },
    "tags": []
   },
   "outputs": [],
   "source": [
    "df_weather.drop(columns='Time', inplace=True)\n",
    "def weatherAverage(df_weather, year):\n",
    "    df_year = df_weather[df_weather['Year'] == year]\n",
    "    df_weather = df_weather[df_weather['Year'] != year]\n",
    "    df_year = df_year.groupby('Round Number').mean().round(1).reset_index()\n",
    "    df_weather = pd.concat([df_weather, df_year])\n",
    "    return df_weather\n",
    "\n",
    "for year in  [x for x in range(2010, 2020)]:\n",
    "    df_weather = weatherAverage(df_weather, year)\n",
    "df_weather = df_weather.rename(columns={\"Year\": \"year\", \"Round Number\": \"round\"})\n",
    "df_weather = pd.merge(df_weather, df_races[['raceId', 'circuitId', 'year', 'round']], on=['year', 'round'], how='left')"
   ]
  },
  {
   "cell_type": "code",
   "execution_count": null,
   "id": "04061e1a",
   "metadata": {
    "execution": {
     "iopub.execute_input": "2024-04-24T09:58:55.695036Z",
     "iopub.status.busy": "2024-04-24T09:58:55.694595Z",
     "iopub.status.idle": "2024-04-24T09:58:55.710876Z",
     "shell.execute_reply": "2024-04-24T09:58:55.708943Z"
    },
    "papermill": {
     "duration": 0.045195,
     "end_time": "2024-04-24T09:58:55.713696",
     "exception": false,
     "start_time": "2024-04-24T09:58:55.668501",
     "status": "completed"
    },
    "tags": []
   },
   "outputs": [],
   "source": [
    "threshold = 0.5\n",
    "percentage_rain = (((df_weather['Rainfall'] > threshold).sum() / len(df_weather)) * 100).round(2)\n",
    "races_in_rain = df_weather[df_weather['Rainfall']>0]\n",
    "df_rain_grid_wins = df_grid_wins[df_grid_wins['raceId'].isin(races_in_rain['raceId'])]\n",
    "mean_wins_by_grid = (df_rain_grid_wins.groupby('grid')['Win'].mean()*100).round(2)"
   ]
  },
  {
   "cell_type": "code",
   "execution_count": 24,
   "id": "f4300966",
   "metadata": {
    "execution": {
     "iopub.execute_input": "2024-04-24T09:58:55.866461Z",
     "iopub.status.busy": "2024-04-24T09:58:55.865585Z",
     "iopub.status.idle": "2024-04-24T09:58:55.907023Z",
     "shell.execute_reply": "2024-04-24T09:58:55.905863Z"
    },
    "papermill": {
     "duration": 0.070493,
     "end_time": "2024-04-24T09:58:55.909910",
     "exception": false,
     "start_time": "2024-04-24T09:58:55.839417",
     "status": "completed"
    },
    "tags": []
   },
   "outputs": [],
   "source": [
    "\n",
    "df_constructor_experience = df_results[['raceId', 'constructorId', 'date']].sort_values('date')\n",
    "df_constructor_experience['Constructor Experience'] = df_constructor_experience.groupby('constructorId').cumcount() + 1\n"
   ]
  },
  {
   "cell_type": "code",
   "execution_count": 33,
   "id": "d786016e",
   "metadata": {
    "execution": {
     "iopub.execute_input": "2024-04-24T09:58:58.104127Z",
     "iopub.status.busy": "2024-04-24T09:58:58.103261Z",
     "iopub.status.idle": "2024-04-24T09:58:58.367132Z",
     "shell.execute_reply": "2024-04-24T09:58:58.365353Z"
    },
    "papermill": {
     "duration": 0.294822,
     "end_time": "2024-04-24T09:58:58.370947",
     "exception": false,
     "start_time": "2024-04-24T09:58:58.076125",
     "status": "completed"
    },
    "tags": []
   },
   "outputs": [],
   "source": [
    "formula_1 = formula_1.drop_duplicates(subset=['raceId', 'driverId', 'constructorId'], keep='last')\n",
    "pos = list(range(1, 21))\n",
    "formula_1 = formula_1[formula_1['position'].isin(pos)]\n",
    "formula_1 = formula_1[formula_1['Constructor Wins'].notnull()]\n",
    "formula_1 = formula_1[formula_1['date']>='1990-01-01']\n",
    "formula_1['podium'] = formula_1['position'].apply(lambda x: x if 1<=x<=3 else 0)\n",
    "\n",
    "formula_1.to_csv('formula1.csv', index=False)\n"
   ]
  },
  {
   "cell_type": "code",
   "execution_count": 52,
   "id": "7e5b4717",
   "metadata": {
    "execution": {
     "iopub.execute_input": "2024-04-24T09:58:58.551980Z",
     "iopub.status.busy": "2024-04-24T09:58:58.551488Z",
     "iopub.status.idle": "2024-04-24T09:59:00.219659Z",
     "shell.execute_reply": "2024-04-24T09:59:00.218601Z"
    },
    "papermill": {
     "duration": 1.697895,
     "end_time": "2024-04-24T09:59:00.222825",
     "exception": false,
     "start_time": "2024-04-24T09:58:58.524930",
     "status": "completed"
    },
    "tags": []
   },
   "outputs": [],
   "source": [
    "from sklearn.model_selection import train_test_split\n",
    "\n",
    "\n",
    "X = formula_1.drop(['position', 'seconds', 'podium', 'date', 'fastestLapSpeed', 'raceId'], axis=1)\n",
    "y = formula_1['podium'] \n",
    "\n",
    "\n",
    "X_train, X_test, y_train, y_test = train_test_split(X, y, test_size=0.5, random_state=42)"
   ]
  },
  {
   "cell_type": "code",
   "execution_count": 37,
   "id": "d37f1dec",
   "metadata": {
    "execution": {
     "iopub.execute_input": "2024-04-24T09:59:19.873346Z",
     "iopub.status.busy": "2024-04-24T09:59:19.872890Z",
     "iopub.status.idle": "2024-04-24T09:59:22.347499Z",
     "shell.execute_reply": "2024-04-24T09:59:22.346143Z"
    },
    "papermill": {
     "duration": 2.504006,
     "end_time": "2024-04-24T09:59:22.350204",
     "exception": false,
     "start_time": "2024-04-24T09:59:19.846198",
     "status": "completed"
    },
    "tags": []
   },
   "outputs": [
    {
     "name": "stdout",
     "output_type": "stream",
     "text": [
      "Accuracy of the Random Forest Classifier: 100.00%\n",
      "Average cross-validation score: 99.15%\n"
     ]
    }
   ],
   "source": [
    "\n",
    "from sklearn.metrics import accuracy_score\n",
    "from sklearn.model_selection import cross_val_score\n",
    "rfc_accuracy = accuracy_score(y_test, y_pred)\n",
    "rfc_cv = cross_val_score(formula1_predict, X, y, cv=5)\n",
    "print(f\"Accuracy of the Random Forest Classifier: {rfc_accuracy*100:.2f}%\")\n",
    "print(f\"Average cross-validation score: {rfc_cv.mean()*100:.2f}%\")"
   ]
  },
  {
   "cell_type": "code",
   "execution_count": 39,
   "id": "8e536d20",
   "metadata": {
    "execution": {
     "iopub.execute_input": "2024-04-24T09:59:22.612661Z",
     "iopub.status.busy": "2024-04-24T09:59:22.612199Z",
     "iopub.status.idle": "2024-04-24T09:59:22.624673Z",
     "shell.execute_reply": "2024-04-24T09:59:22.623355Z"
    },
    "papermill": {
     "duration": 0.04249,
     "end_time": "2024-04-24T09:59:22.627415",
     "exception": false,
     "start_time": "2024-04-24T09:59:22.584925",
     "status": "completed"
    },
    "tags": []
   },
   "outputs": [],
   "source": [
    "def prediction(driver_name, grid, circuit_loc):\n",
    "    driver = df_drivers.loc[df_drivers['Name']==driver_name, 'driverId'].iloc[0]\n",
    "    input_data = formula_1[formula_1['driverId'] == driver].sort_values(by='date', ascending=False).iloc[0]\n",
    "    circuit_data = df_circuits[df_circuits['location']==circuit_loc].iloc[0]\n",
    "\n",
    "    features = {\n",
    "        'driverId': input_data['driverId'],\n",
    "        'constructorId': input_data['constructorId'],\n",
    "        'grid': grid,\n",
    "        'laps': circuit_data['laps'],\n",
    "        'circuitId': circuit_data['circuitId'],\n",
    "        'Length': circuit_data['Length'],\n",
    "        'Turns': circuit_data['Turns'],\n",
    "        'Constructor Experience': input_data['Constructor Experience'],\n",
    "        'Driver Experience': input_data['Driver Experience'],\n",
    "        'Driver Age': input_data['Driver Age'],\n",
    "        'Driver Wins': input_data['Driver Wins'],\n",
    "        'Constructor Wins': input_data['Constructor Wins'],\n",
    "        'Driver Constructor Experience': input_data['Driver Constructor Experience'],\n",
    "        'DNF Score': input_data['DNF Score'],\n",
    "        'prev_position': input_data['prev_position']\n",
    "    }\n",
    "    features = pd.DataFrame([features])\n",
    "    return formula1_predict.predict(features), formula1_predict.predict_proba(features)"
   ]
  },
  {
   "cell_type": "code",
   "execution_count": 62,
   "id": "034598a3",
   "metadata": {
    "execution": {
     "iopub.execute_input": "2024-04-24T09:59:22.731010Z",
     "iopub.status.busy": "2024-04-24T09:59:22.730613Z",
     "iopub.status.idle": "2024-04-24T09:59:23.065040Z",
     "shell.execute_reply": "2024-04-24T09:59:23.063787Z"
    },
    "papermill": {
     "duration": 0.363966,
     "end_time": "2024-04-24T09:59:23.067883",
     "exception": false,
     "start_time": "2024-04-24T09:59:22.703917",
     "status": "completed"
    },
    "tags": []
   },
   "outputs": [
    {
     "name": "stdout",
     "output_type": "stream",
     "text": [
      "Max Verstappen, Expected: 1, Predicted: 1, prob: [0. 1. 0. 0.]\n",
      "Charles Leclerc, Expected: 2, Predicted: 3, prob: [0.08 0.06 0.16 0.7 ]\n",
      "George Russell, Expected: 3, Predicted: 0, prob: [0.9  0.02 0.04 0.04]\n",
      "Carlos Sainz, Expected: 4, Predicted: 0, prob: [0.98 0.   0.02 0.  ]\n",
      "Sergio Pérez, Expected: 5, Predicted: 2, prob: [0.06 0.08 0.78 0.08]\n",
      "Fernando Alonso, Expected: 6, Predicted: 0, prob: [0.98 0.   0.02 0.  ]\n",
      "Lando Norris, Expected: 7, Predicted: 0, prob: [0.96 0.   0.04 0.  ]\n",
      "Oscar Piastri, Expected: 8, Predicted: 0, prob: [1. 0. 0. 0.]\n",
      "Lewis Hamilton, Expected: 9, Predicted: 0, prob: [0.94 0.02 0.   0.04]\n",
      "Nico Hülkenberg, Expected: 10, Predicted: 0, prob: [1. 0. 0. 0.]\n",
      "Yuki Tsunoda, Expected: 11, Predicted: 0, prob: [1. 0. 0. 0.]\n",
      "Lance Stroll, Expected: 12, Predicted: 0, prob: [1. 0. 0. 0.]\n",
      "Alexander Albon, Expected: 13, Predicted: 0, prob: [1. 0. 0. 0.]\n",
      "Daniel Ricciardo, Expected: 14, Predicted: 0, prob: [1. 0. 0. 0.]\n",
      "Kevin Magnussen, Expected: 15, Predicted: 0, prob: [0.98 0.   0.   0.02]\n",
      "Valtteri Bottas, Expected: 16, Predicted: 0, prob: [1. 0. 0. 0.]\n",
      "Logan Sargeant, Expected: 17, Predicted: 0, prob: [1. 0. 0. 0.]\n",
      "Esteban Ocon, Expected: 18, Predicted: 0, prob: [1. 0. 0. 0.]\n",
      "Pierre Gasly, Expected: 19, Predicted: 0, prob: [1. 0. 0. 0.]\n"
     ]
    }
   ],
   "source": [
    "drivers = ['Max Verstappen', 'Charles Leclerc', 'George Russell', 'Carlos Sainz', 'Sergio Pérez', 'Fernando Alonso', 'Lando Norris', 'Oscar Piastri', 'Lewis Hamilton', 'Nico Hülkenberg', 'Yuki Tsunoda', 'Lance Stroll', 'Alexander Albon', 'Daniel Ricciardo', 'Kevin Magnussen', 'Valtteri Bottas', 'Logan Sargeant', 'Esteban Ocon', 'Pierre Gasly']\n",
    "\n",
    "grids = list(range(1, 21))\n",
    "\n",
    "circuit_loc = 'Sakhir'\n",
    "expected = []\n",
    "predicted = []\n",
    "for driver_name, grid in zip(drivers, grids):\n",
    "    pred, prob = prediction(driver_name, grid, circuit_loc)\n",
    "    print(f'{driver_name}, Expected: {grid}, Predicted: {pred[0]}, prob: {prob[0]}')\n",
    "    expected.append(grid)\n",
    "    predicted.append(pred[0])\n"
   ]
  },
  {
   "cell_type": "code",
   "execution_count": null,
   "id": "09caecbf",
   "metadata": {},
   "outputs": [],
   "source": [
    "\n",
    "accuracy = sum([e == p for e, p in zip(expected, predicted)]) / len(expected)\n"
   ]
  },
  {
   "cell_type": "code",
   "execution_count": 66,
   "id": "79a2892d",
   "metadata": {},
   "outputs": [
    {
     "data": {
      "text/plain": [
       "0        Melbourne\n",
       "1     Kuala Lumpur\n",
       "2           Sakhir\n",
       "3         Montmeló\n",
       "4         Istanbul\n",
       "          ...     \n",
       "72        Portimão\n",
       "73         Mugello\n",
       "74          Jeddah\n",
       "75       Al Daayen\n",
       "76           Miami\n",
       "Name: location, Length: 77, dtype: object"
      ]
     },
     "execution_count": 66,
     "metadata": {},
     "output_type": "execute_result"
    }
   ],
   "source": [
    "df_circuits['location']"
   ]
  },
  {
   "cell_type": "code",
   "execution_count": 60,
   "id": "d234ec28",
   "metadata": {},
   "outputs": [
    {
     "name": "stdout",
     "output_type": "stream",
     "text": [
      "Requirement already satisfied: scikit-learn in /Users/lilianagocko/anaconda3/lib/python3.11/site-packages (1.2.2)\n",
      "Requirement already satisfied: numpy>=1.17.3 in /Users/lilianagocko/anaconda3/lib/python3.11/site-packages (from scikit-learn) (1.26.4)\n",
      "Requirement already satisfied: scipy>=1.3.2 in /Users/lilianagocko/anaconda3/lib/python3.11/site-packages (from scikit-learn) (1.11.4)\n",
      "Requirement already satisfied: joblib>=1.1.1 in /Users/lilianagocko/anaconda3/lib/python3.11/site-packages (from scikit-learn) (1.2.0)\n",
      "Requirement already satisfied: threadpoolctl>=2.0.0 in /Users/lilianagocko/anaconda3/lib/python3.11/site-packages (from scikit-learn) (2.2.0)\n"
     ]
    }
   ],
   "source": [
    "!pip install scikit-learn"
   ]
  },
  {
   "cell_type": "code",
   "execution_count": null,
   "id": "9e4b018f",
   "metadata": {},
   "outputs": [],
   "source": [
    "from sklearn.metrics import confusion_matrix\n",
    "import seaborn as sns\n",
    "import matplotlib.pyplot as plt\n",
    "\n",
    "cm = confusion_matrix(expected, predicted)\n",
    "\n",
    "plt.figure(figsize=(8, 6))\n",
    "sns.heatmap(cm, annot=True, fmt=\"d\", cmap=\"Blues\")\n",
    "plt.xlabel(\"Predicted\")\n",
    "plt.ylabel(\"Expected\")\n",
    "plt.title(\"Confusion Matrix\")\n",
    "plt.show()"
   ]
  },
  {
   "cell_type": "code",
   "execution_count": 64,
   "id": "72ce99ec",
   "metadata": {},
   "outputs": [],
   "source": [
    "from sklearn.metrics import precision_score, recall_score\n",
    "\n",
    "precision = precision_score(expected, predicted, average='weighted', zero_division=1)\n",
    "recall = recall_score(expected, predicted, average='weighted', zero_division=1)\n"
   ]
  },
  {
   "cell_type": "code",
   "execution_count": 65,
   "id": "ebdcb91a",
   "metadata": {},
   "outputs": [
    {
     "data": {
      "text/plain": [
       "(0.8947368421052632, 0.05263157894736842)"
      ]
     },
     "execution_count": 65,
     "metadata": {},
     "output_type": "execute_result"
    }
   ],
   "source": [
    "precision, recall"
   ]
  },
  {
   "cell_type": "code",
   "execution_count": 77,
   "id": "6f0dcbe9",
   "metadata": {},
   "outputs": [],
   "source": [
    "import numpy as np\n",
    "from sklearn.model_selection import train_test_split\n",
    "from sklearn.ensemble import GradientBoostingClassifier\n",
    "from sklearn.preprocessing import StandardScaler\n",
    "from sklearn.pipeline import Pipeline\n",
    "from sklearn.metrics import accuracy_score\n",
    "import matplotlib.pyplot as plt\n",
    "\n",
    "X = formula_1.drop(['position', 'seconds', 'podium', 'date', 'fastestLapSpeed', 'raceId'], axis=1)\n",
    "y = formula_1['podium'] \n",
    "\n",
    "initial_train_size = 0.5\n",
    "increment = 0.05\n",
    "\n",
    "formula1_gb = Pipeline([\n",
    "    ('scaler', StandardScaler()),\n",
    "    ('classifier', GradientBoostingClassifier(n_estimators=100, random_state=42))\n",
    "])\n",
    "\n",
    "train_sizes = []\n",
    "accuracy_scores = []\n",
    "current_train_size = initial_train_size\n",
    "\n",
    "while current_train_size <= 0.9:  \n",
    "    X_train, X_test, y_train, y_test = train_test_split(X, y, test_size=1 - current_train_size, random_state=42)  \n",
    "    X_test = X_test[:20]\n",
    "    y_test = y_test[:20]\n",
    "    formula1_gb.fit(X_train, y_train)\n",
    "    y_pred = formula1_gb.predict(X_test)\n",
    "    accuracy = accuracy_score(y_test, y_pred)\n",
    "    train_sizes.append(current_train_size)\n",
    "    accuracy_scores.append(accuracy)\n",
    "\n",
    "    current_train_size += increment\n"
   ]
  },
  {
   "cell_type": "code",
   "execution_count": 71,
   "id": "d6a060e2",
   "metadata": {},
   "outputs": [
    {
     "data": {
      "image/png": "[encoded data removed]",
      "text/plain": [
       "<Figure size 800x600 with 1 Axes>"
      ]
     },
     "metadata": {},
     "output_type": "display_data"
    }
   ],
   "source": [
    "\n",
    "plt.figure(figsize=(8, 6))\n",
    "plt.plot(train_sizes, accuracy_scores, marker='o', linestyle='-', color='b')\n",
    "plt.xlabel('Training Set Proportion')\n",
    "plt.ylabel('Accuracy')\n",
    "plt.title('Model Accuracy with Increasing Training Set (50 - 5%)')\n",
    "plt.show()\n"
   ]
  }
 ],
 "metadata": {
  "kaggle": {
   "accelerator": "none",
   "dataSources": [
    {
     "datasetId": 468218,
     "sourceId": 6358464,
     "sourceType": "datasetVersion"
    },
    {
     "datasetId": 4539765,
     "sourceId": 7762146,
     "sourceType": "datasetVersion"
    }
   ],
   "dockerImageVersionId": 30664,
   "isGpuEnabled": false,
   "isInternetEnabled": true,
   "language": "python",
   "sourceType": "notebook"
  },
  "kernelspec": {
   "display_name": "Python 3",
   "language": "python",
   "name": "python3"
  },
  "language_info": {
   "codemirror_mode": {
    "name": "ipython",
    "version": 3
   },
   "file_extension": ".py",
   "mimetype": "text/x-python",
   "name": "python",
   "nbconvert_exporter": "python",
   "pygments_lexer": "ipython3",
   "version": "3.10.11"
  },
  "papermill": {
   "default_parameters": {},
   "duration": 134.138314,
   "end_time": "2024-04-24T09:59:24.018424",
   "environment_variables": {},
   "exception": null,
   "input_path": "__notebook__.ipynb",
   "output_path": "__notebook__.ipynb",
   "parameters": {},
   "start_time": "2024-04-24T09:57:09.880110",
   "version": "2.5.0"
  }
 },
 "nbformat": 4,
 "nbformat_minor": 5
}
